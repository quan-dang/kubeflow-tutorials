{
 "cells": [
  {
   "cell_type": "code",
   "execution_count": null,
   "id": "cbca6ac9",
   "metadata": {},
   "outputs": [],
   "source": [
    "import kfp\n",
    "from kfp.components import load_component_from_url, create_component_from_func\n",
    "from kfp.components import InputPath, OutputPath\n",
    "\n",
    "import sys\n",
    "sys.path.insert(0, \"..\")\n",
    "from constants import NAMESPACE, HOST\n",
    "from utils.auth import get_session_cookie"
   ]
  },
  {
   "cell_type": "code",
   "execution_count": null,
   "id": "0c9d836e",
   "metadata": {},
   "outputs": [],
   "source": [
    "web_downloader_op = load_component_from_url(\n",
    "    'https://raw.githubusercontent.com/kubeflow/pipelines/1.7.1/components/web/Download/component.yaml')"
   ]
  },
  {
   "cell_type": "code",
   "execution_count": null,
   "id": "5d6ddc9f",
   "metadata": {},
   "outputs": [],
   "source": [
    "def merge_csv(file_path: InputPath('Tarball'),\n",
    "              output_csv: OutputPath('CSV')):\n",
    "    import glob\n",
    "    import pandas as pd\n",
    "    import tarfile\n",
    "\n",
    "    tarfile.open(name=file_path, mode=\"r|gz\").extractall('data')\n",
    "    df = pd.concat(\n",
    "      [pd.read_csv(csv_file, header=None) \n",
    "       for csv_file in glob.glob('data/*.csv')])\n",
    "    df.to_csv(output_csv, index=False, header=False)\n",
    "    \n",
    "create_step_merge_csv = create_component_from_func(\n",
    "    func=merge_csv,\n",
    "    output_component_file='../components/merge_csv/component.yaml', # This is optional. It saves the component spec for future use.\n",
    "    base_image='python:3.7',\n",
    "    packages_to_install=['pandas==1.1.4'])"
   ]
  },
  {
   "cell_type": "code",
   "execution_count": null,
   "id": "3cc5e747",
   "metadata": {},
   "outputs": [],
   "source": [
    "def get_csv_info(input_csv: InputPath('CSV')) -> tuple:\n",
    "    import pandas as pd\n",
    "    \n",
    "    df = pd.read_csv(input_csv, header=None)\n",
    "    print(f\"[Debug] df.shape: {df.shape}\")\n",
    "    return df.shape\n",
    "    \n",
    "get_csv_info_op = create_component_from_func(\n",
    "    func=get_csv_info,\n",
    "    output_component_file='../components/get_csv_info/component.yaml', # This is optional. It saves the component spec for future use.\n",
    "    base_image='python:3.7',\n",
    "    packages_to_install=['pandas==1.1.4'])"
   ]
  },
  {
   "cell_type": "code",
   "execution_count": null,
   "id": "a39aa3f8",
   "metadata": {},
   "outputs": [],
   "source": [
    "# Define a pipeline and create a task from a component:\n",
    "def my_pipeline(url):\n",
    "    web_downloader_task = web_downloader_op(url=url)\n",
    "    merge_csv_task = create_step_merge_csv(file=web_downloader_task.outputs['Data'])\n",
    "    get_csv_info_task = get_csv_info_op(input_csv=merge_csv_task.outputs['output_csv'])"
   ]
  },
  {
   "cell_type": "code",
   "execution_count": null,
   "id": "db1dc61f",
   "metadata": {},
   "outputs": [],
   "source": [
    "session_cookie = get_session_cookie()\n",
    "client = kfp.Client(\n",
    "    host=f\"{HOST}/pipeline\",\n",
    "    cookies=f\"authservice_session={session_cookie}\",\n",
    "    namespace=NAMESPACE,\n",
    ")\n",
    "client.create_run_from_pipeline_func(\n",
    "    my_pipeline,\n",
    "    arguments={\n",
    "        'url': 'https://storage.googleapis.com/ml-pipeline-playground/iris-csv-files.tar.gz'\n",
    "    })"
   ]
  }
 ],
 "metadata": {
  "kernelspec": {
   "display_name": "Python 3",
   "language": "python",
   "name": "python3"
  },
  "language_info": {
   "codemirror_mode": {
    "name": "ipython",
    "version": 3
   },
   "file_extension": ".py",
   "mimetype": "text/x-python",
   "name": "python",
   "nbconvert_exporter": "python",
   "pygments_lexer": "ipython3",
   "version": "3.8.8"
  }
 },
 "nbformat": 4,
 "nbformat_minor": 5
}
