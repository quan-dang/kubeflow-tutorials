{
 "cells": [
  {
   "cell_type": "code",
   "execution_count": 1,
   "id": "b919c46f",
   "metadata": {},
   "outputs": [],
   "source": [
    "import kfp\n",
    "from kfp.components import load_component_from_url, create_component_from_func\n",
    "from kfp.components import InputPath, OutputPath\n",
    "\n",
    "import sys\n",
    "sys.path.insert(0, \"..\")\n",
    "from constants import NAMESPACE, HOST\n",
    "from utils.auth import get_session_cookie"
   ]
  },
  {
   "cell_type": "code",
   "execution_count": 5,
   "id": "6eb506d2",
   "metadata": {},
   "outputs": [],
   "source": [
    "from typing import NamedTuple\n",
    "from kfp.components import InputPath, OutputPath, create_component_from_func\n",
    "\n",
    "# Ref: https://www.kubeflow.org/docs/components/pipelines/sdk/pipelines-metrics/\n",
    "def produce_metrics() -> NamedTuple('Outputs', [\n",
    "  ('mlpipeline_metrics', 'Metrics'),\n",
    "]):\n",
    "    import json\n",
    "\n",
    "    accuracy = 0.8\n",
    "    metrics = {\n",
    "        'metrics': [{\n",
    "            'name': 'accuracy-score', # The name of the metric. Visualized as the column name in the runs table.\n",
    "            'numberValue':  accuracy, # The value of the metric. Must be a numeric value.\n",
    "            'format': \"PERCENTAGE\",   # The optional format of the metric. Supported values are \"RAW\" (displayed in raw format) and \"PERCENTAGE\" (displayed in percentage format).\n",
    "        }]\n",
    "    }\n",
    "    return [json.dumps(metrics)]\n",
    "\n",
    "produce_metrics_op = create_component_from_func(\n",
    "    produce_metrics,\n",
    "    base_image='python:3.7',\n",
    "    packages_to_install=[],\n",
    "    output_component_file='../components/visualize_metrics/component.yaml',\n",
    ")"
   ]
  },
  {
   "cell_type": "code",
   "execution_count": 3,
   "id": "7704b823",
   "metadata": {},
   "outputs": [],
   "source": [
    "# Define a pipeline and create a task from a component:\n",
    "def my_pipeline(url):\n",
    "    produce_metrics_op()"
   ]
  },
  {
   "cell_type": "code",
   "execution_count": 4,
   "id": "c2da397d",
   "metadata": {},
   "outputs": [
    {
     "data": {
      "text/html": [
       "<a href=\"http://b17f-42-113-121-84.ngrok.io//pipeline/#/experiments/details/ae3df007-d63b-46f1-8ab6-67a4bab5af63\" target=\"_blank\" >Experiment details</a>."
      ],
      "text/plain": [
       "<IPython.core.display.HTML object>"
      ]
     },
     "metadata": {},
     "output_type": "display_data"
    },
    {
     "data": {
      "text/html": [
       "<a href=\"http://b17f-42-113-121-84.ngrok.io//pipeline/#/runs/details/f6a2e21f-c395-4e3a-9629-aa25b61fb659\" target=\"_blank\" >Run details</a>."
      ],
      "text/plain": [
       "<IPython.core.display.HTML object>"
      ]
     },
     "metadata": {},
     "output_type": "display_data"
    },
    {
     "data": {
      "text/plain": [
       "RunPipelineResult(run_id=f6a2e21f-c395-4e3a-9629-aa25b61fb659)"
      ]
     },
     "execution_count": 4,
     "metadata": {},
     "output_type": "execute_result"
    }
   ],
   "source": [
    "session_cookie = get_session_cookie()\n",
    "client = kfp.Client(\n",
    "    host=f\"{HOST}/pipeline\",\n",
    "    cookies=f\"authservice_session={session_cookie}\",\n",
    "    namespace=NAMESPACE,\n",
    ")\n",
    "client.create_run_from_pipeline_func(\n",
    "    my_pipeline,\n",
    "    arguments={}\n",
    ")"
   ]
  }
 ],
 "metadata": {
  "kernelspec": {
   "display_name": "Python 3",
   "language": "python",
   "name": "python3"
  },
  "language_info": {
   "codemirror_mode": {
    "name": "ipython",
    "version": 3
   },
   "file_extension": ".py",
   "mimetype": "text/x-python",
   "name": "python",
   "nbconvert_exporter": "python",
   "pygments_lexer": "ipython3",
   "version": "3.8.8"
  }
 },
 "nbformat": 4,
 "nbformat_minor": 5
}
