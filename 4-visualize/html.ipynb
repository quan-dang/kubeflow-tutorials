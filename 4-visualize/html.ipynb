{
 "cells": [
  {
   "cell_type": "code",
   "execution_count": null,
   "id": "eb917a14",
   "metadata": {},
   "outputs": [],
   "source": [
    "import kfp\n",
    "from kfp.components import load_component_from_url, create_component_from_func\n",
    "from kfp.components import InputPath, OutputPath\n",
    "\n",
    "import sys\n",
    "sys.path.insert(0, \"..\")\n",
    "from constants import NAMESPACE, HOST\n",
    "from utils.auth import get_session_cookie"
   ]
  },
  {
   "cell_type": "code",
   "execution_count": null,
   "id": "29a4ef25",
   "metadata": {},
   "outputs": [],
   "source": [
    "# Ref: https://www.kubeflow.org/docs/components/pipelines/sdk/output-viewer/#web-app\n",
    "def produce_html(mlpipeline_ui_metadata_path: kfp.components.OutputPath()):\n",
    "    import json\n",
    "    import os\n",
    "\n",
    "    metadata = {\n",
    "        'outputs' : [{\n",
    "          'type': 'web-app',\n",
    "          'storage': 'inline',\n",
    "          'source': '<h1>Hello, World!</h1>',\n",
    "        }]\n",
    "    }\n",
    "\n",
    "    with open(mlpipeline_ui_metadata_path, 'w') as metadata_file:\n",
    "        json.dump(metadata, metadata_file)\n",
    "        \n",
    "produce_html_op = create_component_from_func(\n",
    "    produce_html,\n",
    "    base_image='python:3.7',\n",
    "    packages_to_install=[],\n",
    "    output_component_file='../components/visualize_html/component.yaml',\n",
    ")"
   ]
  },
  {
   "cell_type": "code",
   "execution_count": null,
   "id": "6c8521ab",
   "metadata": {},
   "outputs": [],
   "source": [
    "# Define a pipeline and create a task from a component:\n",
    "def my_pipeline(url):\n",
    "    produce_html_op()"
   ]
  },
  {
   "cell_type": "code",
   "execution_count": null,
   "id": "c3096a43",
   "metadata": {},
   "outputs": [],
   "source": [
    "session_cookie = get_session_cookie()\n",
    "client = kfp.Client(\n",
    "    host=f\"{HOST}/pipeline\",\n",
    "    cookies=f\"authservice_session={session_cookie}\",\n",
    "    namespace=NAMESPACE,\n",
    ")\n",
    "client.create_run_from_pipeline_func(\n",
    "    my_pipeline,\n",
    "    arguments={}\n",
    ")"
   ]
  }
 ],
 "metadata": {
  "kernelspec": {
   "display_name": "Python 3",
   "language": "python",
   "name": "python3"
  },
  "language_info": {
   "codemirror_mode": {
    "name": "ipython",
    "version": 3
   },
   "file_extension": ".py",
   "mimetype": "text/x-python",
   "name": "python",
   "nbconvert_exporter": "python",
   "pygments_lexer": "ipython3",
   "version": "3.8.8"
  }
 },
 "nbformat": 4,
 "nbformat_minor": 5
}
