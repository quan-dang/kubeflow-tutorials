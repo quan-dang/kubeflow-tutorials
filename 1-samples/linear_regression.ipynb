{
 "cells": [
  {
   "cell_type": "code",
   "execution_count": null,
   "id": "be64db62",
   "metadata": {},
   "outputs": [],
   "source": [
    "from typing import NamedTuple\n",
    "\n",
    "import kfp\n",
    "from kfp.components import InputPath, InputTextFile, OutputPath, OutputTextFile\n",
    "from kfp.components import func_to_container_op\n",
    "\n",
    "from datetime import datetime\n",
    "\n",
    "import sys\n",
    "sys.path.insert(0, \"..\")\n",
    "from constants import NAMESPACE, HOST\n",
    "from utils.auth import get_session_cookie\n",
    "from utils import helpers"
   ]
  },
  {
   "cell_type": "markdown",
   "id": "22090657",
   "metadata": {},
   "source": [
    "### Define several constants"
   ]
  },
  {
   "cell_type": "code",
   "execution_count": 1,
   "id": "928fff27",
   "metadata": {},
   "outputs": [],
   "source": [
    "EXPERIMENT_NAME = \"tutorial\"\n",
    "PIPELINE_NAME = \"linear regression\"\n",
    "PIPELINE_VERSION = \"0.0.1\" # remember to change every run\n",
    "PIPELINE_DESCRIPTION = \"Using linear regression to predict house prices\""
   ]
  },
  {
   "cell_type": "markdown",
   "id": "8641c460",
   "metadata": {},
   "source": [
    "### Create components from func"
   ]
  },
  {
   "cell_type": "code",
   "execution_count": null,
   "id": "5a8b9cd6",
   "metadata": {},
   "outputs": [],
   "source": [
    "@func_to_container_op\n",
    "def prepare_data():\n",
    "    \n",
    "\n",
    "@func_to_container_op\n",
    "def train():\n",
    "    return 'Train'\n",
    "\n",
    "@func_to_container_op\n",
    "def evaluate():\n",
    "    return 'Evaluate'\n",
    "\n",
    "@func_to_container_op\n",
    "def visualize():\n",
    "    return 'Visualize'"
   ]
  }
 ],
 "metadata": {
  "kernelspec": {
   "display_name": "Python 3",
   "language": "python",
   "name": "python3"
  },
  "language_info": {
   "codemirror_mode": {
    "name": "ipython",
    "version": 3
   },
   "file_extension": ".py",
   "mimetype": "text/x-python",
   "name": "python",
   "nbconvert_exporter": "python",
   "pygments_lexer": "ipython3",
   "version": "3.8.8"
  }
 },
 "nbformat": 4,
 "nbformat_minor": 5
}
