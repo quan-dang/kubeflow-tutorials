{
 "cells": [
  {
   "cell_type": "code",
   "execution_count": null,
   "id": "f8ac1efa",
   "metadata": {},
   "outputs": [],
   "source": [
    "# !pip install kfp==1.6.3"
   ]
  },
  {
   "cell_type": "code",
   "execution_count": null,
   "id": "c62d7561",
   "metadata": {},
   "outputs": [],
   "source": [
    "from typing import NamedTuple\n",
    "\n",
    "import kfp\n",
    "from kfp.components import InputPath, InputTextFile, OutputPath, OutputTextFile\n",
    "from kfp.components import func_to_container_op\n",
    "\n",
    "from datetime import datetime\n",
    "\n",
    "import sys\n",
    "sys.path.insert(0, \"..\")\n",
    "from constants import NAMESPACE, HOST\n",
    "from utils.auth import get_session_cookie\n",
    "from utils import helpers"
   ]
  },
  {
   "cell_type": "markdown",
   "id": "1a0afd21",
   "metadata": {},
   "source": [
    "### Define several constants"
   ]
  },
  {
   "cell_type": "code",
   "execution_count": null,
   "id": "45b4ffec",
   "metadata": {},
   "outputs": [],
   "source": [
    "EXPERIMENT_NAME = \"tutorial\"\n",
    "PIPELINE_NAME = \"tutorial\"\n",
    "PIPELINE_VERSION = \"0.0.1\" # remember to change every run\n",
    "PIPELINE_DESCRIPTION = \"This is a tutorial pipeline\""
   ]
  },
  {
   "cell_type": "markdown",
   "id": "d36ba402",
   "metadata": {},
   "source": [
    "### Create components from func"
   ]
  },
  {
   "cell_type": "code",
   "execution_count": null,
   "id": "0b7eeb41",
   "metadata": {},
   "outputs": [],
   "source": [
    "@func_to_container_op\n",
    "def produce_one_small_output() -> str:\n",
    "    return 'Hello world'\n",
    "\n",
    "@func_to_container_op\n",
    "def produce_two_small_outputs() -> NamedTuple('Outputs', [('text', str), ('number', int)]):\n",
    "    return (\"data 1\", 42)\n",
    "\n",
    "@func_to_container_op\n",
    "def consume_two_arguments(text: str, number: int):\n",
    "    print('Text={}'.format(text))\n",
    "    print('Number={}'.format(str(number)))"
   ]
  },
  {
   "cell_type": "markdown",
   "id": "6184a6d9",
   "metadata": {},
   "source": [
    "### Create pipelines by connecting components"
   ]
  },
  {
   "cell_type": "code",
   "execution_count": null,
   "id": "63d7e511",
   "metadata": {},
   "outputs": [],
   "source": [
    "def producers_to_consumers_pipeline(text: str = \"Hello world\"):\n",
    "    '''Pipeline that passes data from producer to consumer'''\n",
    "    produce1_task = produce_one_small_output()\n",
    "    produce2_task = produce_two_small_outputs()\n",
    "\n",
    "    consume_task1 = consume_two_arguments(produce1_task.output, 42)\n",
    "    consume_task2 = consume_two_arguments(text, produce2_task.outputs['number'])\n",
    "    consume_task3 = consume_two_arguments(produce2_task.outputs['text'], produce2_task.outputs['number'])"
   ]
  },
  {
   "cell_type": "markdown",
   "id": "20a0da7b",
   "metadata": {},
   "source": [
    "### Run pipelines"
   ]
  },
  {
   "cell_type": "markdown",
   "id": "dd66bf23",
   "metadata": {},
   "source": [
    "1. First, we define the client to interact with kubeflow API. We use session cookie in this case for authentication."
   ]
  },
  {
   "cell_type": "code",
   "execution_count": null,
   "id": "c24fa0ab",
   "metadata": {},
   "outputs": [],
   "source": [
    "session_cookie = get_session_cookie()\n",
    "client = kfp.Client(\n",
    "    host=f\"{HOST}/pipeline\",\n",
    "    cookies=f\"authservice_session={session_cookie}\",\n",
    "    namespace=NAMESPACE,\n",
    ")"
   ]
  },
  {
   "cell_type": "markdown",
   "id": "57b13967",
   "metadata": {},
   "source": [
    "2. Next, compile the pipeline into YAML, upload it to the pipeline store, and run"
   ]
  },
  {
   "cell_type": "code",
   "execution_count": null,
   "id": "5236bbd6",
   "metadata": {
    "tags": []
   },
   "outputs": [],
   "source": [
    "pipeline_package_path = f\"pipeline_{PIPELINE_VERSION}.yaml\"\n",
    "kfp.compiler.Compiler().compile(\n",
    "    pipeline_func=producers_to_consumers_pipeline, package_path=pipeline_package_path\n",
    ")\n",
    "# get experiment ID\n",
    "experiment = helpers.get_or_create_experiment(client, name=EXPERIMENT_NAME)\n",
    "pipeline = helpers.get_or_create_pipeline(\n",
    "    client,\n",
    "    pipeline_name=PIPELINE_NAME,\n",
    "    version=PIPELINE_VERSION,\n",
    "    pipeline_description=PIPELINE_DESCRIPTION\n",
    ")\n",
    "now = datetime.now().strftime(\"%Y%m%d%H%M%S\")\n",
    "client.run_pipeline(\n",
    "    experiment_id=experiment.id,\n",
    "    job_name=f\"{PIPELINE_NAME} {PIPELINE_VERSION} {now}\",\n",
    "    version_id=pipeline.id,\n",
    ")"
   ]
  },
  {
   "cell_type": "markdown",
   "id": "a07a0575",
   "metadata": {},
   "source": [
    "3. Another way is to run directly from notebook (not recommended for prod)"
   ]
  },
  {
   "cell_type": "code",
   "execution_count": null,
   "id": "4fa63bb3",
   "metadata": {},
   "outputs": [],
   "source": [
    "client.create_run_from_pipeline_func(producers_to_consumers_pipeline, \n",
    "            arguments={}, \n",
    "            experiment_name=EXPERIMENT_NAME\n",
    ")"
   ]
  },
  {
   "cell_type": "markdown",
   "id": "11a5a8a4",
   "metadata": {},
   "source": [
    "4. Create a recurring run with a single command"
   ]
  },
  {
   "cell_type": "code",
   "execution_count": null,
   "id": "8c3266ee",
   "metadata": {
    "tags": []
   },
   "outputs": [],
   "source": [
    "# Dont forget to disable recurring run in case you dont need anymore\n",
    "client.create_recurring_run(\n",
    "    experiment_id=experiment.id,\n",
    "    job_name=f\"{PIPELINE_NAME} {PIPELINE_VERSION} {now}\",\n",
    "    cron_expression=\"0 0 * * * *\", # hourly\n",
    "    version_id=pipeline.id,\n",
    ")"
   ]
  }
 ],
 "metadata": {
  "kernelspec": {
   "display_name": "Python 3",
   "language": "python",
   "name": "python3"
  },
  "language_info": {
   "codemirror_mode": {
    "name": "ipython",
    "version": 3
   },
   "file_extension": ".py",
   "mimetype": "text/x-python",
   "name": "python",
   "nbconvert_exporter": "python",
   "pygments_lexer": "ipython3",
   "version": "3.8.8"
  }
 },
 "nbformat": 4,
 "nbformat_minor": 5
}
