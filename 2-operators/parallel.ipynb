{
 "cells": [
  {
   "cell_type": "code",
   "execution_count": null,
   "id": "b56d2809",
   "metadata": {},
   "outputs": [],
   "source": [
    "from kfp.components import create_component_from_func, load_component_from_file\n",
    "\n",
    "import sys\n",
    "sys.path.insert(0, \"..\")\n",
    "from constants import NAMESPACE, HOST\n",
    "from utils.auth import get_session_cookie"
   ]
  },
  {
   "cell_type": "code",
   "execution_count": null,
   "id": "5ef3a0c0",
   "metadata": {},
   "outputs": [],
   "source": [
    "EXPERIMENT_NAME = \"tutorial\""
   ]
  },
  {
   "cell_type": "code",
   "execution_count": null,
   "id": "564dc0c6",
   "metadata": {},
   "outputs": [],
   "source": [
    "add_op = load_component_from_file(\"../components/add/component.yaml\")\n",
    "minus_op = load_component_from_file(\"../components/minus/component.yaml\")"
   ]
  },
  {
   "cell_type": "code",
   "execution_count": null,
   "id": "eba3ab97",
   "metadata": {},
   "outputs": [],
   "source": [
    "from kfp import dsl\n",
    "import kfp\n",
    "\n",
    "@dsl.pipeline(\n",
    "    name='Parallel For',\n",
    "    description='Run in parallel two add tasks.'\n",
    ")\n",
    "def add_and_minus():\n",
    "    \"\"\"A sample pipeline showing running tasks in parallel.\"\"\"\n",
    "    with dsl.ParallelFor([{'a':2, 'b': 3}, {'a': 20, 'b': 30}]) as item:\n",
    "        add_task = add_op(item.a, item.b)\n",
    "        minus_task = minus_op(item.a, item.b)"
   ]
  },
  {
   "cell_type": "code",
   "execution_count": null,
   "id": "0d830f86",
   "metadata": {},
   "outputs": [],
   "source": [
    "session_cookie = get_session_cookie()\n",
    "client = kfp.Client(\n",
    "    host=f\"{HOST}/pipeline\",\n",
    "    cookies=f\"authservice_session={session_cookie}\",\n",
    "    namespace=NAMESPACE,\n",
    ")"
   ]
  },
  {
   "cell_type": "code",
   "execution_count": null,
   "id": "3041e9d1",
   "metadata": {},
   "outputs": [],
   "source": [
    "client.create_run_from_pipeline_func(add_and_minus, \n",
    "            arguments={}, \n",
    "            experiment_name=EXPERIMENT_NAME\n",
    ")"
   ]
  }
 ],
 "metadata": {
  "kernelspec": {
   "display_name": "Python 3",
   "language": "python",
   "name": "python3"
  },
  "language_info": {
   "codemirror_mode": {
    "name": "ipython",
    "version": 3
   },
   "file_extension": ".py",
   "mimetype": "text/x-python",
   "name": "python",
   "nbconvert_exporter": "python",
   "pygments_lexer": "ipython3",
   "version": "3.8.8"
  }
 },
 "nbformat": 4,
 "nbformat_minor": 5
}
