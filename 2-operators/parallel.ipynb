{
 "cells": [
  {
   "cell_type": "code",
   "execution_count": 4,
   "id": "fe47eeff",
   "metadata": {},
   "outputs": [],
   "source": [
    "from kfp.components import create_component_from_func, load_component_from_file\n",
    "\n",
    "import sys\n",
    "sys.path.insert(0, \"..\")\n",
    "from constants import NAMESPACE, HOST\n",
    "from utils.auth import get_session_cookie"
   ]
  },
  {
   "cell_type": "code",
   "execution_count": 2,
   "id": "9ec2769f",
   "metadata": {},
   "outputs": [],
   "source": [
    "EXPERIMENT_NAME = \"tutorial\""
   ]
  },
  {
   "cell_type": "code",
   "execution_count": 5,
   "id": "809ba8f8",
   "metadata": {},
   "outputs": [],
   "source": [
    "add_op = load_component_from_file(\"../components/add/component.yaml\")\n",
    "minus_op = load_component_from_file(\"../components/minus/component.yaml\")"
   ]
  },
  {
   "cell_type": "code",
   "execution_count": 6,
   "id": "e7331dc8",
   "metadata": {},
   "outputs": [],
   "source": [
    "from kfp import dsl\n",
    "import kfp\n",
    "\n",
    "@dsl.pipeline(\n",
    "    name='Parallel For',\n",
    "    description='Run in parallel two add tasks.'\n",
    ")\n",
    "def add_and_minus():\n",
    "    \"\"\"A sample pipeline showing running tasks in parallel.\"\"\"\n",
    "    with dsl.ParallelFor([{'a':2, 'b': 3}, {'a': 20, 'b': 30}]) as item:\n",
    "        add_task = add_op(item.a, item.b)\n",
    "        minus_task = minus_op(item.a, item.b)"
   ]
  },
  {
   "cell_type": "code",
   "execution_count": 7,
   "id": "619e9a5a",
   "metadata": {},
   "outputs": [
    {
     "name": "stdout",
     "output_type": "stream",
     "text": [
      "{'authservice_session': 'MTY0NDc0NzM0MHxOd3dBTkZGVlZrUlhSRnBFVUUweVJGbERXRU5UUzFKUlNVRkVWRmswTmxGS1NqSlhSMUJIVEZVelJVOUlXa2hVUWpJelIxZFVWa0U9fCywPsVmjyC-Oj9qO5zpikw-XorCcoZ9FR45h3Fg6R3Y'}\n"
     ]
    }
   ],
   "source": [
    "session_cookie = get_session_cookie()\n",
    "client = kfp.Client(\n",
    "    host=f\"{HOST}/pipeline\",\n",
    "    cookies=f\"authservice_session={session_cookie}\",\n",
    "    namespace=NAMESPACE,\n",
    ")"
   ]
  },
  {
   "cell_type": "code",
   "execution_count": 8,
   "id": "9a21c8d3",
   "metadata": {},
   "outputs": [
    {
     "data": {
      "text/html": [
       "<a href=\"http://b17f-42-113-121-84.ngrok.io//pipeline/#/experiments/details/7385da7a-86ab-4c93-b5d1-496d0e49528c\" target=\"_blank\" >Experiment details</a>."
      ],
      "text/plain": [
       "<IPython.core.display.HTML object>"
      ]
     },
     "metadata": {},
     "output_type": "display_data"
    },
    {
     "data": {
      "text/html": [
       "<a href=\"http://b17f-42-113-121-84.ngrok.io//pipeline/#/runs/details/50ff96df-3be5-44e5-8f00-8c977778a31e\" target=\"_blank\" >Run details</a>."
      ],
      "text/plain": [
       "<IPython.core.display.HTML object>"
      ]
     },
     "metadata": {},
     "output_type": "display_data"
    },
    {
     "data": {
      "text/plain": [
       "RunPipelineResult(run_id=50ff96df-3be5-44e5-8f00-8c977778a31e)"
      ]
     },
     "execution_count": 8,
     "metadata": {},
     "output_type": "execute_result"
    }
   ],
   "source": [
    "client.create_run_from_pipeline_func(add_and_minus, \n",
    "            arguments={}, \n",
    "            experiment_name=EXPERIMENT_NAME\n",
    ")"
   ]
  }
 ],
 "metadata": {
  "kernelspec": {
   "display_name": "Python 3",
   "language": "python",
   "name": "python3"
  },
  "language_info": {
   "codemirror_mode": {
    "name": "ipython",
    "version": 3
   },
   "file_extension": ".py",
   "mimetype": "text/x-python",
   "name": "python",
   "nbconvert_exporter": "python",
   "pygments_lexer": "ipython3",
   "version": "3.8.8"
  }
 },
 "nbformat": 4,
 "nbformat_minor": 5
}
