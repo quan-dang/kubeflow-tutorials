{
 "cells": [
  {
   "cell_type": "code",
   "execution_count": null,
   "id": "d6382411",
   "metadata": {},
   "outputs": [],
   "source": [
    "from kfp.components import create_component_from_func\n",
    "\n",
    "import sys\n",
    "sys.path.insert(0, \"..\")\n",
    "from constants import NAMESPACE, HOST\n",
    "from utils.auth import get_session_cookie"
   ]
  },
  {
   "cell_type": "code",
   "execution_count": null,
   "id": "b9bdca81",
   "metadata": {},
   "outputs": [],
   "source": [
    "EXPERIMENT_NAME = \"tutorial\""
   ]
  },
  {
   "cell_type": "code",
   "execution_count": null,
   "id": "fc054cfe",
   "metadata": {},
   "outputs": [],
   "source": [
    "def add(a: float, b: float) -> float:\n",
    "    \"\"\"Returns sum of two arguments\"\"\"\n",
    "    return a + b\n",
    "\n",
    "add_op = create_component_from_func(\n",
    "    func=add,\n",
    "    base_image='python:3.7', # Optional, with default is python:3.7\n",
    "    output_component_file='../components/add/component.yaml', # Optional\n",
    "    packages_to_install=['pandas==0.24'], # Optional\n",
    ")\n",
    "\n",
    "def minus(a: float, b: float) -> float:\n",
    "    \"\"\"Returns minus of two arguments\"\"\"\n",
    "    print(a-b)\n",
    "    return a - b\n",
    "\n",
    "minus_op = create_component_from_func(\n",
    "    func=minus,\n",
    "    base_image='python:3.7', # Optional\n",
    "    output_component_file='../components/minus/component.yaml', # Optional\n",
    "    packages_to_install=['pandas==0.24'], # Optional\n",
    ")"
   ]
  },
  {
   "cell_type": "code",
   "execution_count": null,
   "id": "42071235",
   "metadata": {},
   "outputs": [],
   "source": [
    "from kfp import dsl\n",
    "import kfp\n",
    "\n",
    "@dsl.pipeline(\n",
    "    name='Condition',\n",
    "    description='Run minus op if the condition is satisfied.'\n",
    ")\n",
    "def add_and_minus():\n",
    "    \"\"\"A sample pipeline showing condition.\"\"\"\n",
    "\n",
    "    add_task = add_op(1, 2)\n",
    "    sum_output_ref = add_task.outputs['Output']\n",
    "    \n",
    "    with dsl.Condition(sum_output_ref>3):\n",
    "        minus_task = minus_op(sum_output_ref, 4)"
   ]
  },
  {
   "cell_type": "code",
   "execution_count": null,
   "id": "94efc3a2",
   "metadata": {},
   "outputs": [],
   "source": [
    "session_cookie = get_session_cookie()\n",
    "client = kfp.Client(\n",
    "    host=f\"{HOST}/pipeline\",\n",
    "    cookies=f\"authservice_session={session_cookie}\",\n",
    "    namespace=NAMESPACE,\n",
    ")"
   ]
  },
  {
   "cell_type": "code",
   "execution_count": null,
   "id": "116d1827",
   "metadata": {},
   "outputs": [],
   "source": [
    "client.create_run_from_pipeline_func(add_and_minus, \n",
    "            arguments={}, \n",
    "            experiment_name=EXPERIMENT_NAME\n",
    ")"
   ]
  }
 ],
 "metadata": {
  "kernelspec": {
   "display_name": "Python 3",
   "language": "python",
   "name": "python3"
  },
  "language_info": {
   "codemirror_mode": {
    "name": "ipython",
    "version": 3
   },
   "file_extension": ".py",
   "mimetype": "text/x-python",
   "name": "python",
   "nbconvert_exporter": "python",
   "pygments_lexer": "ipython3",
   "version": "3.8.8"
  }
 },
 "nbformat": 4,
 "nbformat_minor": 5
}
