{
 "cells": [
  {
   "cell_type": "code",
   "execution_count": 1,
   "id": "37fe9818",
   "metadata": {},
   "outputs": [],
   "source": [
    "from kfp.components import create_component_from_func\n",
    "\n",
    "import sys\n",
    "sys.path.insert(0, \"..\")\n",
    "from constants import NAMESPACE, HOST\n",
    "from utils.auth import get_session_cookie"
   ]
  },
  {
   "cell_type": "code",
   "execution_count": 2,
   "id": "aad1fc53",
   "metadata": {},
   "outputs": [],
   "source": [
    "EXPERIMENT_NAME = \"tutorial\""
   ]
  },
  {
   "cell_type": "code",
   "execution_count": 3,
   "id": "18779277",
   "metadata": {},
   "outputs": [],
   "source": [
    "def add(a: float, b: float) -> float:\n",
    "    \"\"\"Returns sum of two arguments\"\"\"\n",
    "    return a + b\n",
    "\n",
    "add_op = create_component_from_func(\n",
    "    func=add,\n",
    "    base_image='python:3.7', # Optional, with default is python:3.7\n",
    "    output_component_file='../components/add/component.yaml', # Optional\n",
    "    packages_to_install=['pandas==0.24'], # Optional\n",
    ")\n",
    "\n",
    "def minus(a: float, b: float) -> float:\n",
    "    \"\"\"Returns minus of two arguments\"\"\"\n",
    "    print(a-b)\n",
    "    return a - b\n",
    "\n",
    "minus_op = create_component_from_func(\n",
    "    func=minus,\n",
    "    base_image='python:3.7', # Optional\n",
    "    output_component_file='../components/minus/component.yaml', # Optional\n",
    "    packages_to_install=['pandas==0.24'], # Optional\n",
    ")"
   ]
  },
  {
   "cell_type": "code",
   "execution_count": 4,
   "id": "cbc9b9e6",
   "metadata": {},
   "outputs": [],
   "source": [
    "from kfp import dsl\n",
    "import kfp\n",
    "\n",
    "@dsl.pipeline(\n",
    "    name='Condition',\n",
    "    description='Run minus op if the condition is satisfied.'\n",
    ")\n",
    "def add_and_minus():\n",
    "    \"\"\"A sample pipeline showing condition.\"\"\"\n",
    "\n",
    "    add_task = add_op(1, 2)\n",
    "    sum_output_ref = add_task.outputs['Output']\n",
    "    \n",
    "    with dsl.Condition(sum_output_ref>3):\n",
    "        minus_task = minus_op(sum_output_ref, 4)"
   ]
  },
  {
   "cell_type": "code",
   "execution_count": 5,
   "id": "b80f2114",
   "metadata": {},
   "outputs": [
    {
     "name": "stdout",
     "output_type": "stream",
     "text": [
      "{'authservice_session': 'MTY0NDc0NzEzNXxOd3dBTkRKSU1qZFJOVlZNV1ZOT1JVRkxURTVhVUZKUlFrTkZRMHhLU2pkV1JFZGFWa2hZTlVNelR6ZENVVUpIU1VWU1ZrSkZXRUU9fNg5pxigpUMGulthaeqMIMCG9KMDz8Saryz6LsD-foeC'}\n"
     ]
    }
   ],
   "source": [
    "session_cookie = get_session_cookie()\n",
    "client = kfp.Client(\n",
    "    host=f\"{HOST}/pipeline\",\n",
    "    cookies=f\"authservice_session={session_cookie}\",\n",
    "    namespace=NAMESPACE,\n",
    ")"
   ]
  },
  {
   "cell_type": "code",
   "execution_count": 6,
   "id": "b3727995",
   "metadata": {},
   "outputs": [
    {
     "data": {
      "text/html": [
       "<a href=\"http://b17f-42-113-121-84.ngrok.io//pipeline/#/experiments/details/7385da7a-86ab-4c93-b5d1-496d0e49528c\" target=\"_blank\" >Experiment details</a>."
      ],
      "text/plain": [
       "<IPython.core.display.HTML object>"
      ]
     },
     "metadata": {},
     "output_type": "display_data"
    },
    {
     "data": {
      "text/html": [
       "<a href=\"http://b17f-42-113-121-84.ngrok.io//pipeline/#/runs/details/9cd84c49-4ffc-40b7-841a-192cb67c8957\" target=\"_blank\" >Run details</a>."
      ],
      "text/plain": [
       "<IPython.core.display.HTML object>"
      ]
     },
     "metadata": {},
     "output_type": "display_data"
    },
    {
     "data": {
      "text/plain": [
       "RunPipelineResult(run_id=9cd84c49-4ffc-40b7-841a-192cb67c8957)"
      ]
     },
     "execution_count": 6,
     "metadata": {},
     "output_type": "execute_result"
    }
   ],
   "source": [
    "client.create_run_from_pipeline_func(add_and_minus, \n",
    "            arguments={}, \n",
    "            experiment_name=EXPERIMENT_NAME\n",
    ")"
   ]
  }
 ],
 "metadata": {
  "kernelspec": {
   "display_name": "Python 3",
   "language": "python",
   "name": "python3"
  },
  "language_info": {
   "codemirror_mode": {
    "name": "ipython",
    "version": 3
   },
   "file_extension": ".py",
   "mimetype": "text/x-python",
   "name": "python",
   "nbconvert_exporter": "python",
   "pygments_lexer": "ipython3",
   "version": "3.8.8"
  }
 },
 "nbformat": 4,
 "nbformat_minor": 5
}
